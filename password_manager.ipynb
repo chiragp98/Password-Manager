{
 "cells": [
  {
   "cell_type": "markdown",
   "metadata": {},
   "source": [
    "Fuctions"
   ]
  },
  {
   "cell_type": "code",
   "execution_count": null,
   "metadata": {},
   "outputs": [],
   "source": [
    "def pw_entry():\n",
    "    Username = input('Username: ')\n",
    "    Password = input('Password: ')\n",
    "\n",
    "    with open ('passwords.txt', 'a') as f:\n",
    "        f.write(Username + \" | \" + Password + '\\n')\n",
    "        \n",
    "\n",
    "def display():\n",
    "    pass"
   ]
  },
  {
   "cell_type": "markdown",
   "metadata": {},
   "source": [
    "Password Manager "
   ]
  },
  {
   "cell_type": "code",
   "execution_count": 11,
   "metadata": {},
   "outputs": [],
   "source": [
    "\n",
    "MasterPWD = input(\"Master Password: \")\n",
    "\n",
    "while True:\n",
    "    mode = input(\"Please select the mode you would like to use:   add    view    exit\" '\\n' \" :\").lower()\n",
    "    if mode == 'exit':\n",
    "        break\n",
    "    elif mode == 'add':\n",
    "        pw_entry()\n",
    "    elif mode == 'view':\n",
    "        pass\n",
    "    else:\n",
    "        print(\"Invalid Input\")\n",
    "        continue\n"
   ]
  }
 ],
 "metadata": {
  "kernelspec": {
   "display_name": "Python 3.10.6 64-bit",
   "language": "python",
   "name": "python3"
  },
  "language_info": {
   "codemirror_mode": {
    "name": "ipython",
    "version": 3
   },
   "file_extension": ".py",
   "mimetype": "text/x-python",
   "name": "python",
   "nbconvert_exporter": "python",
   "pygments_lexer": "ipython3",
   "version": "3.10.6"
  },
  "orig_nbformat": 4,
  "vscode": {
   "interpreter": {
    "hash": "26de051ba29f2982a8de78e945f0abaf191376122a1563185a90213a26c5da77"
   }
  }
 },
 "nbformat": 4,
 "nbformat_minor": 2
}
