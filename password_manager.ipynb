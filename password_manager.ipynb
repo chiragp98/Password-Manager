{
 "cells": [
  {
   "cell_type": "markdown",
   "metadata": {},
   "source": [
    "Fuctions"
   ]
  },
  {
   "cell_type": "code",
   "execution_count": null,
   "metadata": {},
   "outputs": [],
   "source": [
    "def pw_entry():\n",
    "    Username = input('Username: ')\n",
    "    Password = input('Password: ')\n",
    "\n",
    "    with open ('passwords.txt', 'a') as f:\n",
    "        f.write(Username + \" | \" + Password + '\\n')\n",
    "        \n",
    "\n",
    "def display():\n",
    "    pass"
   ]
  },
  {
   "cell_type": "markdown",
   "metadata": {},
   "source": [
    "Password Manager "
   ]
  },
  {
   "cell_type": "code",
   "execution_count": 11,
   "metadata": {},
   "outputs": [],
   "source": [
    "from cryptography.fernet import Fernet\n",
    "\n",
    "MasterPWD = input(\"Master Password: \")\n",
    "\n",
    "while True:\n",
    "    mode = input(\"Please select the mode you would like to use:   add    view    exit\" '\\n' \" :\").lower()\n",
    "    if mode == 'exit':\n",
    "        break\n",
    "    elif mode == 'add':\n",
    "        pw_entry()\n",
    "    elif mode == 'view':\n",
    "        pass\n",
    "    else:\n",
    "        print(\"Invalid Input\")\n",
    "        continue\n"
   ]
  }
 ],
 "metadata": {
  "kernelspec": {
   "display_name": "Python 3.10.4 64-bit ('PWManagerEnv')",
   "language": "python",
   "name": "python3"
  },
  "language_info": {
   "codemirror_mode": {
    "name": "ipython",
    "version": 3
   },
   "file_extension": ".py",
   "mimetype": "text/x-python",
   "name": "python",
   "nbconvert_exporter": "python",
   "pygments_lexer": "ipython3",
   "version": "3.10.4"
  },
  "orig_nbformat": 4,
  "vscode": {
   "interpreter": {
    "hash": "8e90837dee7c4b693bb26713cb5a434a57eb94e9e53c48e42908e26bdf910721"
   }
  }
 },
 "nbformat": 4,
 "nbformat_minor": 2
}
